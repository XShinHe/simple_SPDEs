{
 "cells": [
  {
   "cell_type": "markdown",
   "metadata": {},
   "source": [
    "<h4 style=\"text-align:right\">CCME,&nbsp; Peking University</h4>\n",
    "***\n",
    "<p>\n",
    "<h1 style=\"text-align:center\"><font face=\"Times Roman\" size=6> Stochastic Partial Differential Equation: Exiting problem </font></h1>\n",
    "<br>\n",
    "<h2 style=\"text-align:center\"><font face=\"Times Roman\">Xin He, 1500011805 </font> </h2>"
   ]
  },
  {
   "cell_type": "markdown",
   "metadata": {},
   "source": [
    "# Steps of solution of elliptic PDE by stochastic process  \n",
    "**a reference can be found at [exit problem for PDE](https://math.nist.gov/mcsd/Seminars/2006/2006-10-18-mascagni-presentation.pdf)**  \n",
    "the source code in github page [XShinHe/simple_SPDEs](https://github.com/XShinHe/simple_SPDEs)"
   ]
  },
  {
   "cell_type": "markdown",
   "metadata": {},
   "source": [
    "for general elliptic PDE:  \n",
    "$$\n",
    "Lu(x) - c(x)u(x) = g(x),\\quad x\\in \\Omega\n",
    "\\\\\n",
    "u(x) = f(x), \\quad x\\in \\partial\\Omega\n",
    "$$\n",
    "where the operator (Einstern summation convenstion)\n",
    "$$\n",
    "L = b_i\\partial_i + \\frac{1}{2}a_{ij}\\partial_i\\partial_j\n",
    "\\\\\n",
    "a_{ij} = \\sigma_{ik}(\\sigma^T)_{kj} = \\sigma_{ik}\\sigma_{jk}\n",
    "$$\n",
    "the wiener integral path gives:  \n",
    "$$\n",
    "u(x) = \\mathbb{E}^L_x \\big[ \\int_0^{t_{\\partial\\Omega}} \\{\\frac{f(X^x(t_{\\partial\\Omega}))}{t_{\\partial\\Omega}} - g(X^x(t)) \\}e^{-\\int_0^t c(X^x(s))ds} dt \\big]\n",
    "$$  \n",
    "with the stochastic path:  \n",
    "$$\n",
    "dX^x (t) = b(X^x,t) dt + \\sigma(X^x, t) dW\n",
    "\\\\\n",
    "X^x(0) = x\n",
    "$$"
   ]
  },
  {
   "cell_type": "markdown",
   "metadata": {},
   "source": [
    "# The concrete example (HW7. Numerical SDE: Exit problem.)"
   ]
  },
  {
   "cell_type": "markdown",
   "metadata": {},
   "source": [
    "for problem:  \n",
    "$$\n",
    "x\\partial_x u + y\\partial_y u + \\frac{1}{2}\\Delta u = x^2+y^2+1 \\overset{def}{=} g(x,y)\n",
    "\\\\\n",
    "u(\\partial \\Omega) = 1/2 \\overset{def}{=} f(x,y), \\quad \\partial\\Omega : x^2+y^2=1\n",
    "$$\n",
    "the exact solution is \n",
    "$$\n",
    "u(x,y) = \\frac{1}{2}(x^2+y^2)\n",
    "$$\n",
    "so\n",
    "$$\n",
    "u(x,y) = \\mathbb{E}_{x,y}^L [ f(X^{x,y}(t_{\\partial\\Omega})) - \\int_0^{t_{\\partial\\Omega}}g(X)dt]\n",
    "$$"
   ]
  },
  {
   "cell_type": "markdown",
   "metadata": {},
   "source": [
    "so the stochastic of elliptic PDE needs:  \n",
    "* from start point $(x,y)$ start, simulate process by (with Eular-Maruyama method) \n",
    "$$\n",
    "dX_t = b X_t + dW_t, \\quad X \\overset{def}{=} (X_x, X_y), \\quad b = (X_x, X_y)\n",
    "\\\\\n",
    "X_{n+1} - X_{n} = (X_{nx},X_{ny})^T X_n \\delta t + \\delta W_t\n",
    "$$\n",
    "* evaluate u(x,y) from \n",
    "$$\n",
    "u(x,y) = \\mathbb{E}_{x,y}^L [ f(X^{x,y}(t_{\\partial\\Omega})) - \\int_0^{t_{\\partial\\Omega}}g(X)dt]\n",
    "\\\\\n",
    "= \\mathbb{E}_{x,y}^L [ \\frac{1}{2} - \\int_0^{t_{\\partial\\Omega}} (X_{tx}^2+X_{ty}^2+1) dt]\n",
    "$$\n",
    "* repeat above until converge with error threshold."
   ]
  },
  {
   "cell_type": "markdown",
   "metadata": {},
   "source": [
    "But, note the implement of stochastic is only dependent the polar radius in $\\Omega$, irrelative to the angle, so solution must to be ( **cylindrically symmetry** ), this symmetry can be used to reduce the calculation of stochastic process."
   ]
  },
  {
   "cell_type": "markdown",
   "metadata": {},
   "source": [
    "# Following gives the python version  \n",
    "* python version is only an implement, and for faster calculation, the results actually are collected from fortran version, seeing my github project [simple_SPDEs](https://github.com/XShinHe/simple_SPDEs)"
   ]
  },
  {
   "cell_type": "code",
   "execution_count": 56,
   "metadata": {},
   "outputs": [
    {
     "name": "stdout",
     "output_type": "stream",
     "text": [
      "[ 0.5  0.5]\n",
      "The value u(v) = 0.25\n",
      "The value of Exp(f(Exit))=0.233134289226\n"
     ]
    }
   ],
   "source": [
    "import numpy as np\n",
    "\n",
    "def check_if_exit(v):\n",
    "    # Checks if v has intersected with the boundary of D = S(1)\n",
    "    return (np.linalg.norm(v,2) >=1)\n",
    "\n",
    "def em(x,dt):\n",
    "    # b = (x,y), sigma = 1\n",
    "    x += x * dt + np.random.normal(size=2,scale=np.sqrt(dt))\n",
    "\n",
    "# nonhomogeneous term\n",
    "g = lambda x : 1+x[0]*x[0]+x[1]*x[1]\n",
    "# boundary term\n",
    "f = lambda x : 0.5\n",
    "\n",
    "def simulate_exit_time(v):\n",
    "    # Simulates exit time starting at v=(x,y), returns exit position\n",
    "    delta_t = 0.0001\n",
    "    exit = False\n",
    "\n",
    "    # Copy because simulation modifies in place\n",
    "    if hasattr(v,'copy'): # For NumPy arrays\n",
    "        x = v.copy() \n",
    "    else:\n",
    "        x = np.array(v) # We input a non-NumPy array\n",
    "    \n",
    "    esti_val = 0\n",
    "    while not check_if_exit(x):\n",
    "        em(x, delta_t)\n",
    "        esti_val -= g(x) * delta_t\n",
    "    return esti_val + f(x)\n",
    "\n",
    "v=np.array((0.5,0.5)) # The origin\n",
    "print(v)\n",
    "\n",
    "u = lambda x : 0.5*(x[0]**2+x[1]**2)\n",
    "\n",
    "def get_exp_f_exit(starting_point, n_trials): \n",
    "    return np.mean([ simulate_exit_time(v) for k in range(0,n_trials)])\n",
    "\n",
    "exp_f_exit = get_exp_f_exit(v,2000) # Expected value of f(Exit(x,d))\n",
    "print('The value u(v) = %s\\nThe value of Exp(f(Exit))=%s' %(u(v), exp_f_exit)) "
   ]
  },
  {
   "cell_type": "markdown",
   "metadata": {},
   "source": [
    "# Result analysis"
   ]
  },
  {
   "cell_type": "markdown",
   "metadata": {},
   "source": [
    "## first we show calculations along the radius  \n",
    "the simulation choose $dt=0.0001$ and $N_{MC}=3000$\n",
    "![](./result/1e-4_3000.png)  \n",
    "the simulation choose $dt=0.00002$ and $N_{MC}=3000$\n",
    "![](./result/2e-5_3000.png)  \n",
    "here the error defined as:  \n",
    "$$\n",
    "Err = \\int_0^1 2\\pi r dr |u_{expr}(r)-u_{exact}(r)|^2\n",
    "$$"
   ]
  },
  {
   "cell_type": "markdown",
   "metadata": {},
   "source": [
    "# the relation of error with $N_{MC}$  \n",
    "here $dt=0.0005$, it show that $N_{MC}\\ge 1000$ is enough to reach the limit of error."
   ]
  },
  {
   "cell_type": "code",
   "execution_count": 14,
   "metadata": {},
   "outputs": [
    {
     "data": {
      "image/png": "[encoded data removed]",
      "text/plain": [
       "<matplotlib.figure.Figure at 0x2aaadef32780>"
      ]
     },
     "metadata": {},
     "output_type": "display_data"
    }
   ],
   "source": [
    "import numpy as np\n",
    "import pandas as pd\n",
    "import matplotlib.pyplot as plt\n",
    "%matplotlib inline\n",
    "\n",
    "# the dt=0.0005\n",
    "a=pd.read_csv('collect2.dat',header=None,sep='\\s+').values\n",
    "logN = np.log10(a[:,0])\n",
    "\n",
    "logerr = np.log10(a[:,1])\n",
    "plt.plot(logN,logerr,'r--')\n",
    "plt.xlabel(r'$lg(N_{MC})$')\n",
    "plt.ylabel(r'$lg Er$')\n",
    "plt.show()"
   ]
  },
  {
   "cell_type": "markdown",
   "metadata": {},
   "source": [
    "# the relation of error with dt  \n",
    "all $N_{MC} = 3000$, $dt=0.01,0.005, 0.002, 0.001, 0.0005, 0.0002, 0.0001, 0.00005, 0.00002$  \n",
    "the result show that Eular-Maruyama is 1-order in weak convergence."
   ]
  },
  {
   "cell_type": "code",
   "execution_count": 17,
   "metadata": {},
   "outputs": [
    {
     "data": {
      "image/png": "[encoded data removed]",
      "text/plain": [
       "<matplotlib.figure.Figure at 0x2aaadccac940>"
      ]
     },
     "metadata": {},
     "output_type": "display_data"
    },
    {
     "name": "stdout",
     "output_type": "stream",
     "text": [
      "the order is: 0.937673 \n"
     ]
    }
   ],
   "source": [
    "import numpy as np\n",
    "import pandas as pd\n",
    "import matplotlib.pyplot as plt\n",
    "import scipy.optimize as optimization\n",
    "\n",
    "%matplotlib inline\n",
    "\n",
    "a=pd.read_csv('collect.dat',header=None,sep='\\s+').values\n",
    "logdt = np.log10(a[:,0])\n",
    "logerr = np.log10(a[:,1])\n",
    "\n",
    "plt.plot(logdt,logerr,'r--')\n",
    "plt.show()\n",
    "\n",
    "def func(x, k, m):\n",
    "    return k*x + m\n",
    "sigma = np.zeros(len(logdt)) + 0.5\n",
    "args = optimization.curve_fit(func, logdt, logerr , np.array([0.0,0.0]), sigma)[0]\n",
    "print('the order is: %f '%(args[0]))"
   ]
  }
 ],
 "metadata": {
  "kernelspec": {
   "display_name": "Python 3",
   "language": "python",
   "name": "python3"
  },
  "language_info": {
   "codemirror_mode": {
    "name": "ipython",
    "version": 3
   },
   "file_extension": ".py",
   "mimetype": "text/x-python",
   "name": "python",
   "nbconvert_exporter": "python",
   "pygments_lexer": "ipython3",
   "version": "3.5.2"
  }
 },
 "nbformat": 4,
 "nbformat_minor": 2
}
