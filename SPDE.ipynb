{
 "cells": [
  {
   "cell_type": "markdown",
   "metadata": {},
   "source": [
    "# solving PDE through stochastic simulation  \n",
    "* a reference can be found at [exit problem for PDE](https://math.nist.gov/mcsd/Seminars/2006/2006-10-18-mascagni-presentation.pdf)"
   ]
  },
  {
   "cell_type": "markdown",
   "metadata": {},
   "source": [
    "for general elliptic PDE:  \n",
    "$$\n",
    "Lu(x) - c(x)u(x) = g(x),\\quad x\\in \\Omega\n",
    "\\\\\n",
    "u(x) = f(x), \\quad x\\in \\partial\\Omega\n",
    "$$\n",
    "where the operator\n",
    "$$\n",
    "L = b_i\\partial_i + \\frac{1}{2}a_{ij}\\partial_i\\partial_j\n",
    "\\\\\n",
    "a_{ij} = \\sigma_{ik}(\\sigma^T)_{kj} = \\sigma_{ik}\\sigma_{jk}\n",
    "$$\n",
    "the wiener integral path gives:  \n",
    "$$\n",
    "u(x) = \\mathbb{E}^L_x \\big[ \\int_0^{t_{\\partial\\Omega}} \\{\\frac{f(X^x(t_{\\partial\\Omega}))}{t_{\\partial\\Omega}} - g(X^x(t)) \\}e^{-\\int_0^t c(X^x(s))ds} dt \\big]\n",
    "$$  \n",
    "with the stochastic path:  \n",
    "$$\n",
    "dX^x (t) = b(X^x,t) dt + \\sigma(X^x, t) dW\n",
    "\\\\\n",
    "X^x(0) = x\n",
    "$$"
   ]
  },
  {
   "cell_type": "markdown",
   "metadata": {},
   "source": [
    "for problem:  \n",
    "$$\n",
    "x\\partial_x u + y\\partial_y u + \\frac{1}{2}\\Delta u = x^2+y^2+1\n",
    "\\\\\n",
    "u(\\partial \\Omega) = 1/2, \\quad \\partial\\Omega : x^2+y^2=1\n",
    "$$\n",
    "the exact solution is \n",
    "$$\n",
    "u(x,y) = \\frac{1}{2}(x^2+y^2)\n",
    "$$\n",
    "so\n",
    "$$\n",
    "u(x,y) = \\mathbb{E}_{x,y}^L [ f(X^{x,y}(t_{\\partial\\Omega})) - \\int_0^{t_{\\partial\\Omega}}g(X)dt]\n",
    "$$"
   ]
  },
  {
   "cell_type": "code",
   "execution_count": 53,
   "metadata": {},
   "outputs": [
    {
     "name": "stdout",
     "output_type": "stream",
     "text": [
      "[ 0.   0.5]\n",
      "The value u(v) = 0.125\n",
      "The value of Exp(f(Exit))=0.106156363066\n"
     ]
    }
   ],
   "source": [
    "import numpy as np\n",
    "\n",
    "def check_if_exit(v):\n",
    "    # Takes a vector v=(x,y)\n",
    "    # Checks if v has intersected with the boundary of D\n",
    "    return (np.linalg.norm(v,2) >=1)\n",
    "\n",
    "def em(x,dt):\n",
    "    # b = (x,y), sigma = 1\n",
    "    x += x * dt + np.random.normal(size=2,scale=np.sqrt(dt))\n",
    "\n",
    "g = lambda x : 1+x[0]*x[0]+x[1]*x[1]\n",
    "\n",
    "def simulate_exit_time(v):\n",
    "    # Simulates exit time starting at v=(x,y), returns exit position\n",
    "    delta_t = 0.0005\n",
    "    exit = False\n",
    "\n",
    "    # Copy because simulation modifies in place\n",
    "    if hasattr(v,'copy'): # For NumPy arrays\n",
    "        x = v.copy() \n",
    "    else:\n",
    "        x = np.array(v) # We input a non-NumPy array\n",
    "    \n",
    "    int_g = 0\n",
    "    while not check_if_exit(x):\n",
    "        em(x, delta_t)\n",
    "        int_g += g(x) * delta_t\n",
    "    return int_g\n",
    "\n",
    "r2 = np.sqrt(0.5)\n",
    "v=np.array((0.,0.5)) # The origin\n",
    "print(v)\n",
    "\n",
    "u = lambda x : 0.5*(x[0]**2+x[1]**2)\n",
    "f = lambda x : np.cos(np.arctan2(x[1],x[0]))\n",
    "\n",
    "def get_exp_f_exit(starting_point, n_trials): \n",
    "    return np.mean([ 0.5 - simulate_exit_time(v) for k in range(0,n_trials)])\n",
    "\n",
    "exp_f_exit = get_exp_f_exit(v,2000) # Expected value of f(Exit(x,d))\n",
    "print('The value u(v) = %s\\nThe value of Exp(f(Exit))=%s' %(u(v), exp_f_exit)) \n",
    "\n"
   ]
  },
  {
   "cell_type": "code",
   "execution_count": null,
   "metadata": {},
   "outputs": [],
   "source": []
  }
 ],
 "metadata": {
  "kernelspec": {
   "display_name": "Python 3",
   "language": "python",
   "name": "python3"
  },
  "language_info": {
   "codemirror_mode": {
    "name": "ipython",
    "version": 3
   },
   "file_extension": ".py",
   "mimetype": "text/x-python",
   "name": "python",
   "nbconvert_exporter": "python",
   "pygments_lexer": "ipython3",
   "version": "3.5.2"
  }
 },
 "nbformat": 4,
 "nbformat_minor": 2
}
